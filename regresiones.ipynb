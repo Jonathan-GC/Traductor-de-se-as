{
 "cells": [
  {
   "cell_type": "markdown",
   "id": "2fa72e9f",
   "metadata": {},
   "source": [
    "\n",
    "\n",
    "\n",
    "https://www.varsitytutors.com/hotmath/hotmath_help/spanish/topics/line-of-best-fit\n",
    "\n"
   ]
  },
  {
   "cell_type": "code",
   "execution_count": 15,
   "id": "05289e80",
   "metadata": {},
   "outputs": [
    {
     "name": "stdout",
     "output_type": "stream",
     "text": [
      "Datos en todo el documento 1006\n",
      "1555477200.0\n"
     ]
    }
   ],
   "source": [
    "#importar el modulo para leer el archivoi\n",
    "import csv\n",
    "import datetime\n",
    "import xlrd\n",
    "import numpy as np\n",
    "\n",
    "def converDate2Unix(dateString):\n",
    "    date_format = datetime.datetime.strptime(dateString, \"%d/%m/%Y\")\n",
    "    return datetime.datetime.timestamp(date_format)\n",
    "\n",
    "\n",
    "rutaArchivo = \"tabla datos-.csv\"\n",
    "filas = []\n",
    "filtroDatos = []\n",
    "\n",
    "\n",
    "#Abrir archivo\n",
    "with open(rutaArchivo, \"r\") as archivo:\n",
    "    lecturaCsv = csv.reader(archivo)\n",
    "    \n",
    "    for fila in lecturaCsv:\n",
    "        \n",
    "        t, x, y, label  = fila[0], fila[1], fila [6], fila[3]\n",
    "        #FILTRAR LOS DATOS DE FECHA Y CONVERTIRLOS A UNIX\n",
    "        t_unix =converDate2Unix(t)\n",
    "        \n",
    "        #FILTRAR LOS VALORES DE x Y CONVERTIRLOS A ENTEROS\n",
    "        x = int(x)\n",
    "        \n",
    "        #FILTRAR LOS VALORES DE y Y CONVERTIRLOS A ENTEROS\n",
    "        y = int(y)\n",
    "        \n",
    "        filtroDatos.append([t_unix, t, y, x, label])\n",
    "        \n",
    "    #Para saber cuantos datos\n",
    "    print( f\"Datos en todo el documento {lecturaCsv.line_num}\")\n",
    "\n",
    "    \n",
    "print(converDate2Unix(\"17/04/2019\"))\n",
    "    \n",
    "filtroDatos = sorted(filtroDatos)\n",
    "#filtroDatos"
   ]
  },
  {
   "cell_type": "code",
   "execution_count": 2,
   "id": "0bc7f4be",
   "metadata": {},
   "outputs": [
    {
     "name": "stdout",
     "output_type": "stream",
     "text": [
      "        Fecha_Unix       Fecha  id subgrupo     valor          label subgrupo\n",
      "0     1.514783e+09  01/01/2018            7     10000        dias de descanso\n",
      "1     1.515992e+09  15/01/2018            9    100000      Afectacion directa\n",
      "2     1.516338e+09  19/01/2018           15    120000  Comercio internacional\n",
      "3     1.516943e+09  26/01/2018            5    150000           Internacional\n",
      "4     1.517375e+09  31/01/2018           15     60000  Comercio internacional\n",
      "...            ...         ...          ...       ...                     ...\n",
      "1001  1.640581e+09  27/12/2021            1   6286000            Alto impacto\n",
      "1002  1.640668e+09  28/12/2021            5   7785846           Internacional\n",
      "1003  1.640754e+09  29/12/2021            6  14767000  Consultas y decisiones\n",
      "1004  1.640840e+09  30/12/2021           20  12700000     Pandemia Covid - 19\n",
      "1005  1.640927e+09  31/12/2021           17   9707000     Vulneracion de DDHH\n",
      "\n",
      "[1006 rows x 5 columns]\n"
     ]
    }
   ],
   "source": [
    "#Libreria para tratamiento de datos\n",
    "import numpy as np\n",
    "import matplotlib.pyplot as plt\n",
    "\n",
    "# importing pandas package\n",
    "import pandas as pd\n",
    "\n",
    "df = pd.DataFrame(filtroDatos, columns=[\"Fecha_Unix\", \"Fecha\",  \"id subgrupo\", \"valor\", \"label subgrupo\" ])\n",
    "print(df)                     "
   ]
  },
  {
   "cell_type": "code",
   "execution_count": null,
   "id": "9379ced3",
   "metadata": {},
   "outputs": [],
   "source": [
    "nuevoDf = df[\"id subgrupo\"]==1\n",
    "\n",
    "positions = np.flatnonzero(nuevoDf)\n",
    "\n",
    "filtered_df=df.iloc[positions]\n",
    "print(filtered_df)\n",
    "\n"
   ]
  },
  {
   "cell_type": "code",
   "execution_count": 13,
   "id": "4d8b6c85",
   "metadata": {},
   "outputs": [
    {
     "data": {
      "image/png": "[encoded data removed]",
      "text/plain": [
       "<Figure size 640x480 with 1 Axes>"
      ]
     },
     "metadata": {},
     "output_type": "display_data"
    },
    {
     "name": "stdout",
     "output_type": "stream",
     "text": [
      "        Fecha_Unix       Fecha  id subgrupo     valor label subgrupo\n",
      "178   1.555477e+09  17/04/2019            1     75000   Alto impacto\n",
      "734   1.617512e+09  04/04/2021            1   3599000   Alto impacto\n",
      "790   1.622351e+09  30/05/2021            1   3350000   Alto impacto\n",
      "802   1.623388e+09  11/06/2021            1   3900000   Alto impacto\n",
      "805   1.623647e+09  14/06/2021            1   2450000   Alto impacto\n",
      "830   1.625807e+09  09/07/2021            1   4775000   Alto impacto\n",
      "840   1.626671e+09  19/07/2021            1   5175000   Alto impacto\n",
      "842   1.626844e+09  21/07/2021            1  16737000   Alto impacto\n",
      "847   1.627276e+09  26/07/2021            1   3316528   Alto impacto\n",
      "881   1.630213e+09  29/08/2021            1   3165000   Alto impacto\n",
      "889   1.630904e+09  06/09/2021            1   3728000   Alto impacto\n",
      "890   1.630991e+09  07/09/2021            1   4624273   Alto impacto\n",
      "954   1.636520e+09  10/11/2021            1   9138000   Alto impacto\n",
      "1001  1.640581e+09  27/12/2021            1   6286000   Alto impacto\n"
     ]
    }
   ],
   "source": [
    "def extraerPorSubGrupo(id):\n",
    "    try:\n",
    "        nuevoDf = df[\"id subgrupo\"] == id\n",
    "        filtrado = df[nuevoDf]\n",
    "        return filtrado\n",
    "    except:\n",
    "        print(\"No se pudo realizar la consulta\")\n",
    "        return None\n",
    "\n",
    "def LineaTendencia(setdataIn):\n",
    "    setdataIn = setdataIn.to_numpy()\n",
    "    #print(setdataIn[:, 0])\n",
    "    print(np.mean(setdataIn[:, 0]))\n",
    "    promedioX = 0\n",
    "    \n",
    "    #sumatoriaX = 0\n",
    "    #for x in range(len(setdataIn)+1):\n",
    "    #    sumatoriaX += x\n",
    "    \n",
    "    #sumatoriaX += x for x in range(len(setdataIn))\n",
    "    \n",
    "    #print (sumatoriaX)\n",
    "    #print (type(joder))\n",
    "    #print (len(joder))\n",
    "\n",
    " \n",
    "    \n",
    "\n",
    "data1 = extraerPorSubGrupo(1)\n",
    "\n",
    "#Plotear grafico por nube de puntos \"go\" \n",
    "plt.title(label = data1[\"label subgrupo\"].iloc[0], fontsize= 20, color = \"blue\")  #titulo\n",
    "plt.plot( data1[\"Fecha\"], data1[\"valor\"], \"go\")\n",
    "plt.xticks(rotation=90) #Rotulos de eje x\n",
    "\n",
    "plt.show()\n",
    "\n",
    "#LineaTendencia(data1)\n",
    "print(data1)"
   ]
  },
  {
   "cell_type": "code",
   "execution_count": 2,
   "id": "edad17d8",
   "metadata": {},
   "outputs": [
    {
     "name": "stdout",
     "output_type": "stream",
     "text": [
      "2020-01-01\n",
      "<class 'datetime.date'>\n"
     ]
    }
   ],
   "source": [
    "# Python3 code to illustrate the conversion\n",
    "# of excel serial date to datetime\n",
    "  \n",
    "# Importing xlrd module\n",
    "import xlrd\n",
    "  \n",
    "# Initializing an excel serial date\n",
    "xl_date = 43831\n",
    "  \n",
    "# Calling the xldate_as_datetime() function to\n",
    "# convert the specified excel serial date into\n",
    "# datetime.datetime object\n",
    "datetime_date = xlrd.xldate_as_datetime(xl_date, 0)\n",
    "  \n",
    "# Calling the datetime_date.date() function to convert\n",
    "# the above returned datetime.datetime object into\n",
    "# datetime.date object\n",
    "date_object = datetime_date.date()\n",
    "  \n",
    "# Getting the converted date date as output\n",
    "print(date_object)\n",
    "  \n",
    "# Getting the type of returned date format\n",
    "print(type(date_object))"
   ]
  },
  {
   "cell_type": "code",
   "execution_count": null,
   "id": "19e9a792",
   "metadata": {},
   "outputs": [],
   "source": [
    "\n"
   ]
  }
 ],
 "metadata": {
  "kernelspec": {
   "display_name": "Python 3 (ipykernel)",
   "language": "python",
   "name": "python3"
  },
  "language_info": {
   "codemirror_mode": {
    "name": "ipython",
    "version": 3
   },
   "file_extension": ".py",
   "mimetype": "text/x-python",
   "name": "python",
   "nbconvert_exporter": "python",
   "pygments_lexer": "ipython3",
   "version": "3.9.12"
  }
 },
 "nbformat": 4,
 "nbformat_minor": 5
}
