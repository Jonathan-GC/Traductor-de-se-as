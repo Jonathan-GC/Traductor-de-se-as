{
 "cells": [
  {
   "cell_type": "code",
   "execution_count": 8,
   "id": "447a0411",
   "metadata": {},
   "outputs": [
    {
     "name": "stdout",
     "output_type": "stream",
     "text": [
      "5\n",
      "<generator object funcionGenerador at 0x0000025A67DBBF20>\n",
      "5\n",
      "1\n",
      "2\n",
      "3\n",
      "1\n",
      "2\n",
      "3\n",
      "[4, 16, 36, 64, 100]\n",
      "4\n",
      "16\n",
      "36\n",
      "64\n",
      "100\n"
     ]
    }
   ],
   "source": [
    "##ANtes entender el generador que es:\n",
    "\n",
    "def funcion():\n",
    "    return 5\n",
    "\n",
    "funcion()\n",
    "print(funcion())\n",
    "\n",
    "\n",
    "def funcionGenerador():\n",
    "    yield 5\n",
    "    \n",
    "funcionGenerador()\n",
    "print(funcionGenerador())\n",
    "\n",
    "\n",
    "#PAra usarlo usamos next\n",
    "a = funcionGenerador()\n",
    "print(next(a))\n",
    "\n",
    "\n",
    "#iterando generadores\n",
    "\n",
    "def funcionGenerador2():\n",
    "    n = 1\n",
    "    yield n\n",
    "\n",
    "    n += 1\n",
    "    yield n\n",
    "\n",
    "    n += 1\n",
    "    yield n\n",
    "\n",
    "b = funcionGenerador2()    \n",
    "print(next(b))    \n",
    "print(next(b))\n",
    "print(next(b))\n",
    "\n",
    "#De mejor manera \n",
    "for i in funcionGenerador2():\n",
    "    print(i)\n",
    "    \n",
    "    \n",
    "#Forma alternativa con list comprehensions lista(sin generador)\n",
    "lista = [2, 4, 6, 8, 10]\n",
    "al_cuadrado = [x**2 for x in lista]\n",
    "print(al_cuadrado)\n",
    "\n",
    "#Forma alternativa con list comprehensions lista(con generador) \n",
    "al_cuadrado_generador = (x**2 for x in lista)\n",
    "\n",
    "for i in al_cuadrado_generador:\n",
    "    print (i)\n"
   ]
  },
  {
   "cell_type": "code",
   "execution_count": null,
   "id": "7293b387",
   "metadata": {},
   "outputs": [],
   "source": []
  },
  {
   "cell_type": "code",
   "execution_count": null,
   "id": "92c2f369",
   "metadata": {},
   "outputs": [
    {
     "name": "stdout",
     "output_type": "stream",
     "text": [
      " * Serving Flask app '__main__'\n",
      " * Debug mode: off\n"
     ]
    },
    {
     "name": "stderr",
     "output_type": "stream",
     "text": [
      "WARNING: This is a development server. Do not use it in a production deployment. Use a production WSGI server instead.\n",
      " * Running on all addresses (0.0.0.0)\n",
      " * Running on http://127.0.0.1:8080\n",
      " * Running on http://192.168.1.9:8080\n",
      "Press CTRL+C to quit\n",
      "192.168.18.24 - - [28/Mar/2023 03:46:33] \"GET / HTTP/1.1\" 404 -\n",
      "192.168.18.24 - - [28/Mar/2023 03:46:33] \"GET /favicon.ico HTTP/1.1\" 404 -\n",
      "127.0.0.1 - - [28/Mar/2023 03:47:05] \"GET / HTTP/1.1\" 404 -\n",
      "127.0.0.1 - - [28/Mar/2023 03:47:32] \"GET / HTTP/1.1\" 404 -\n",
      "127.0.0.1 - - [28/Mar/2023 03:48:05] \"GET / HTTP/1.1\" 404 -\n",
      "127.0.0.1 - - [28/Mar/2023 03:50:38] \"GET / HTTP/1.1\" 404 -\n",
      "127.0.0.1 - - [28/Mar/2023 03:50:39] \"GET / HTTP/1.1\" 404 -\n",
      "127.0.0.1 - - [28/Mar/2023 03:50:39] \"GET / HTTP/1.1\" 404 -\n"
     ]
    }
   ],
   "source": [
    "import cv2\n",
    "import flask\n",
    "\n",
    "app = flask.Flask(__name__)\n",
    "\n",
    "\n",
    "def mjpeg_generator():\n",
    "    video_capture = cv2.VideoCapture(0)\n",
    "    video_capture.set(cv2.CAP_PROP_FRAME_WIDTH, 640)\n",
    "    video_capture.set(cv2.CAP_PROP_FRAME_HEIGHT, 480)\n",
    "    success, frame = video_capture.read()\n",
    "\n",
    "    while success:\n",
    "            success, jpeg = cv2.imencode('.jpg', frame)\n",
    "            if not success:\n",
    "                break\n",
    "            yield (b'--frame\\r\\n'\n",
    "                   b'Content-Type: image/jpeg\\r\\n'\n",
    "                   b'Content-Length: %d\\r\\n'\n",
    "                   b'\\r\\n'\n",
    "                   b'%s\\r\\n' % (len(jpeg), jpeg.tobytes()))\n",
    "            success, frame = video_capture.read()\n",
    "            \n",
    "\n",
    "if __name__ == '__main__':\n",
    "    app.run(host='0.0.0.0', port=8080, threaded=True)\n"
   ]
  },
  {
   "cell_type": "markdown",
   "id": "1bae18b3",
   "metadata": {},
   "source": [
    "# Displaying an image in a window"
   ]
  },
  {
   "cell_type": "code",
   "execution_count": null,
   "id": "7b6c211c",
   "metadata": {},
   "outputs": [],
   "source": [
    "import cv2\n",
    "import numpy as np\n",
    "img = cv2.imread('sources/emblema.jpg')\n",
    "cv2.imshow('my image', img)\n",
    "cv2.waitKey()\n",
    "cv2.destroyAllWindows() "
   ]
  },
  {
   "cell_type": "markdown",
   "id": "dd55786b",
   "metadata": {},
   "source": [
    "# Displaying camera frames in a window"
   ]
  },
  {
   "cell_type": "markdown",
   "id": "1ba731a5",
   "metadata": {},
   "source": [
    "El argumento a favor es un número de milisegundos para esperar la entrada del teclado. Por defecto, es , que es un valor especial que significa infinito. El valor devuelto es (lo que significa que no se ha presionado ninguna tecla) o un código de tecla ASCII, como para Esc. Para obtener una lista de códigos de clave ASCII, consulte https://www.asciitable.com/. Además, tenga en cuenta que Python proporciona una función estándar, , que puede convertir un carácter en su código clave ASCII. Por ejemplo, devuelve .waitKey0-127ordord('a')97\n",
    "\n",
    "Una vez más, tenga en cuenta que la ventana de OpenCV funciona y es interdependiente. Las ventanas de OpenCV solo se actualizan cuando se llama. Por el contrario, solo captura la entrada cuando una ventana de OpenCV tiene el foco.waitKeywaitKeywaitKey\n",
    "\n",
    "La devolución de llamada del mouse a la que se pasa debe tomar cinco argumentos, como se ve en nuestro ejemplo de código. El argumento de la devolución de llamada se establece como un tercer argumento opcional en . De forma predeterminada, es . El argumento de evento de devolución de llamada es una de las siguientes acciones:\n",
    "\n",
    "* cv2.EVENT_MOUSEMOVE: This event refers to mouse movement.\n",
    "* cv2.EVENT_LBUTTONDOWN: This event refers to the left button going down when it is pressed.\n",
    "* cv2.EVENT_RBUTTONDOWN: This event refers to the right button going down when it is pressed.\n",
    "* cv2.EVENT_MBUTTONDOWN: This event refers to the middle button going down when it is pressed.\n",
    "* cv2.EVENT_LBUTTONUP: This event refers to the left button coming back up when it is released.\n",
    "* cv2.EVENT_RBUTTONUP: This event refers to the right button coming back up when it is released.\n",
    "* cv2.EVENT_MBUTTONUP: This event refers to the middle button coming back up when it is released.\n",
    "* cv2.EVENT_LBUTTONDBLCLK: This event refers to the left button being double-clicked.\n",
    "* cv2.EVENT_RBUTTONDBLCLK: This event refers to the right button being double-clicked.\n",
    "* cv2.EVENT_MBUTTONDBLCLK: This event refers to the middle button being double-clicked.\n",
    "\n",
    "El argumento de los indicadores de devolución de llamada del mouse puede ser una combinación bit a bit de los siguientes eventos:\n",
    "\n",
    "\n",
    "\n",
    "* cv2.EVENT_FLAG_LBUTTON: este evento hace referencia a la pulsación del botón izquierdo.\n",
    "* cv2.EVENT_FLAG_RBUTTON: este evento hace referencia a la pulsación del botón derecho.\n",
    "* cv2.EVENT_FLAG_MBUTTON: este evento hace referencia al botón central que se está presionando.\n",
    "* cv2.EVENT_FLAG_CTRLKEY: este evento hace referencia a la tecla Ctrl que se está presionando.\n",
    "* cv2.EVENT_FLAG_SHIFTKEY: este evento hace referencia a la tecla Mayús que se está presionando.\n",
    "* cv2.EVENT_FLAG_ALTKEY: este evento hace referencia a la tecla Alt que se está presionando.\n",
    "\n",
    "\n",
    "Desafortunadamente, OpenCV no proporciona ningún medio para manejar manualmente los eventos de ventana. Por ejemplo, no podemos detener nuestra aplicación cuando se hace clic en el botón de cierre de una ventana. Debido al manejo limitado de eventos y las capacidades de GUI de OpenCV, muchos desarrolladores prefieren integrarlo con otros marcos de aplicaciones. Más adelante en este capítulo, en la sección Cameo, un diseño orientado a objetos, diseñaremos una capa de abstracción para ayudar a integrar OpenCV con cualquier marco de aplicación.\n",
    "\n",
    "\n"
   ]
  },
  {
   "cell_type": "code",
   "execution_count": 7,
   "id": "4fb4aadb",
   "metadata": {},
   "outputs": [
    {
     "name": "stdout",
     "output_type": "stream",
     "text": [
      "Showing camera feed. Click window or press any key to stop.\n"
     ]
    }
   ],
   "source": [
    "#Destruir por nombre y ponerle nombre a las ventanas\n",
    "\n",
    "import cv2\n",
    "clicked = False\n",
    "def onMouse(event, x, y, flags, param):\n",
    "    global clicked\n",
    "    if event == cv2.EVENT_LBUTTONUP:\n",
    "        clicked = True\n",
    "\n",
    "cameraCapture = cv2.VideoCapture(1)\n",
    "cv2.namedWindow('MyWindow')\n",
    "\n",
    "#Callback del mouse\n",
    "cv2.setMouseCallback('MyWindow', onMouse)\n",
    "print('Showing camera feed. Click window or press any key to stop.')\n",
    "success, frame = cameraCapture.read()\n",
    "while success and cv2.waitKey(1) == -1 and not clicked:\n",
    "    cv2.imshow('MyWindow', frame)\n",
    "    success, frame = cameraCapture.read()\n",
    "cv2.destroyWindow('MyWindow')\n",
    "cameraCapture.release() "
   ]
  },
  {
   "cell_type": "code",
   "execution_count": null,
   "id": "aca454a8",
   "metadata": {},
   "outputs": [],
   "source": []
  }
 ],
 "metadata": {
  "kernelspec": {
   "display_name": "Python 3 (ipykernel)",
   "language": "python",
   "name": "python3"
  },
  "language_info": {
   "codemirror_mode": {
    "name": "ipython",
    "version": 3
   },
   "file_extension": ".py",
   "mimetype": "text/x-python",
   "name": "python",
   "nbconvert_exporter": "python",
   "pygments_lexer": "ipython3",
   "version": "3.9.16"
  }
 },
 "nbformat": 4,
 "nbformat_minor": 5
}
