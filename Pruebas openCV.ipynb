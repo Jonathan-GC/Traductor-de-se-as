{
 "cells": [
  {
   "cell_type": "markdown",
   "id": "658dd0e0",
   "metadata": {},
   "source": []
  },
  {
   "cell_type": "markdown",
   "id": "f4d1003d",
   "metadata": {},
   "source": [
    "Optionally, we may specify the mode of imread. The supported options include the following:\n",
    "\n",
    "\n",
    "cv2.IMREAD_COLOR: This is the default option, providing a 3-channel BGR image with an 8-bit value (0-255) for each channel.\n",
    "cv2.IMREAD_GRAYSCALE: This provides an 8-bit grayscale image.\n",
    "cv2.IMREAD_ANYCOLOR: This provides either an 8-bit-per-channel BGR image or an 8-bit grayscale image, depending on the metadata in the file.\n",
    "cv2.IMREAD_UNCHANGED: This reads all of the image data, including the alpha or transparency channel (if there is one) as a fourth channel.\n",
    "cv2.IMREAD_ANYDEPTH: This loads an image in grayscale at its original bit depth. For example, it provides a 16-bit-per-channel grayscale image if the file represents an image in this format.\n",
    "cv2.IMREAD_ANYDEPTH | cv2.IMREAD_COLOR: This combination loads an image in BGR color at its original bit depth.\n",
    "cv2.IMREAD_REDUCED_GRAYSCALE_2: This loads an image in grayscale at half its original resolution. For example, if the file contains a 640 x 480 image, it is loaded as a 320 x 240 image.\n",
    "cv2.IMREAD_REDUCED_COLOR_2: This loads an image in 8-bit-per-channel BGR color at half its original resolution.\n",
    "cv2.IMREAD_REDUCED_GRAYSCALE_4: This loads an image in grayscale at one-quarter of its original resolution.\n",
    "cv2.IMREAD_REDUCED_COLOR_4: This loads an image in 8-bit-per-channel color at one-quarter of its original resolution.\n",
    "cv2.IMREAD_REDUCED_GRAYSCALE_8: This loads an image in grayscale at one-eighth of its original resolution.\n",
    "cv2.IMREAD_REDUCED_COLOR_8: This loads an image in 8-bit-per-channel color at one-eighth of its original resolution.\n"
   ]
  },
  {
   "cell_type": "markdown",
   "id": "127ebf84",
   "metadata": {},
   "source": [
    "##    LECTURA Y ESCRITURA DE IMAGENES"
   ]
  },
  {
   "cell_type": "code",
   "execution_count": 1,
   "id": "eb269b4d",
   "metadata": {},
   "outputs": [],
   "source": [
    "import cv2 as cv\n",
    "import sys\n",
    "\n",
    "img = cv.imread(cv.samples.findFile(\"sources/emblema.jpg\") )\n",
    "\n",
    "if img is None:\n",
    "    sys.exit(\"No se puede mostrar el archivo\")\n",
    "    \n",
    "cv.imshow(\"Ventana de muestra\", img)\n",
    "k = cv.waitKey(0)\n",
    "\n",
    "if k == ord(\"s\"):\n",
    "    cv.imwrite(\"sources/salida de imagen.png\", img)\n",
    "elif k == ord(\"q\"):\n",
    "    cv.destroyAllWindows()\n",
    "\n"
   ]
  },
  {
   "cell_type": "code",
   "execution_count": 13,
   "id": "3276766f",
   "metadata": {},
   "outputs": [
    {
     "name": "stdout",
     "output_type": "stream",
     "text": [
      "[[[255 255 255]\n",
      "  [255 255 255]\n",
      "  [255 255 255]\n",
      "  ...\n",
      "  [255 255 255]\n",
      "  [255 255 255]\n",
      "  [255 255 255]]\n",
      "\n",
      " [[255 255 255]\n",
      "  [255 255 255]\n",
      "  [255 255 255]\n",
      "  ...\n",
      "  [255 255 255]\n",
      "  [255 255 255]\n",
      "  [255 255 255]]\n",
      "\n",
      " [[255 255 255]\n",
      "  [255 255 255]\n",
      "  [255 255 255]\n",
      "  ...\n",
      "  [255 255 255]\n",
      "  [255 255 255]\n",
      "  [255 255 255]]\n",
      "\n",
      " ...\n",
      "\n",
      " [[255 255 255]\n",
      "  [255 255 255]\n",
      "  [255 255 255]\n",
      "  ...\n",
      "  [255 255 255]\n",
      "  [255 255 255]\n",
      "  [255 255 255]]\n",
      "\n",
      " [[255 255 255]\n",
      "  [255 255 255]\n",
      "  [255 255 255]\n",
      "  ...\n",
      "  [255 255 255]\n",
      "  [255 255 255]\n",
      "  [255 255 255]]\n",
      "\n",
      " [[255 255 255]\n",
      "  [255 255 255]\n",
      "  [255 255 255]\n",
      "  ...\n",
      "  [255 255 255]\n",
      "  [255 255 255]\n",
      "  [255 255 255]]]\n",
      "(136, 240, 3)\n"
     ]
    }
   ],
   "source": [
    "import cv2 as cv\n",
    "import sys\n",
    "\n",
    "#img = cv.imread(cv.samples.findFile(\"sources/emblema.jpg\"), cv.IMREAD_COLOR)\n",
    "#img = cv.imread(cv.samples.findFile(\"sources/emblema.jpg\"), cv.IMREAD_GRAYSCALE)\n",
    "#img = cv.imread(cv.samples.findFile(\"sources/emblema.jpg\"), cv.IMREAD_UNCHANGED )\n",
    "#img = cv.imread(cv.samples.findFile(\"sources/emblema.jpg\"), cv.IMREAD_ANYDEPTH )\n",
    "#img = cv.imread(cv.samples.findFile(\"sources/emblema.jpg\"), cv.IMREAD_ANYDEPTH | cv.IMREAD_COLOR )\n",
    "#img = cv.imread(cv.samples.findFile(\"sources/emblema.jpg\"), cv.IMREAD_REDUCED_GRAYSCALE_2 )\n",
    "#img = cv.imread(cv.samples.findFile(\"sources/emblema.jpg\"), cv.IMREAD_REDUCED_COLOR_2 )\n",
    "#img = cv.imread(cv.samples.findFile(\"sources/emblema.jpg\"), cv.IMREAD_REDUCED_GRAYSCALE_4 )\n",
    "#img = cv.imread(cv.samples.findFile(\"sources/emblema.jpg\"), cv.IMREAD_REDUCED_COLOR_4 )\n",
    "#img = cv.imread(cv.samples.findFile(\"sources/emblema.jpg\"), cv.IMREAD_REDUCED_GRAYSCALE_8 )\n",
    "img = cv.imread(cv.samples.findFile(\"sources/emblema.jpg\"), cv.IMREAD_REDUCED_COLOR_8 )\n",
    "\n",
    "\n",
    "if img is None:\n",
    "    sys.exit(\"No se puede mostrar el archivo\")\n",
    "    \n",
    "cv.imshow(\"Ventana de muestra\", img)\n",
    "k = cv.waitKey(0)\n",
    "\n",
    "if k == ord(\"s\"):\n",
    "    cv.imwrite(\"sources/salida de imagen.png\", img)\n",
    "elif k == ord(\"q\"):\n",
    "    cv.destroyAllWindows()\n",
    "    \n",
    "print (img)\n",
    "print(img.shape)"
   ]
  },
  {
   "cell_type": "markdown",
   "id": "5de12128",
   "metadata": {},
   "source": [
    "As an example, let's load a PNG file as a grayscale image (losing any color information in the process), and then save it as a grayscale PNG image:"
   ]
  },
  {
   "cell_type": "code",
   "execution_count": 9,
   "id": "53d7c6f2",
   "metadata": {},
   "outputs": [
    {
     "name": "stdout",
     "output_type": "stream",
     "text": [
      "[[[0 0 0]\n",
      "  [0 0 0]\n",
      "  [0 0 0]\n",
      "  ...\n",
      "  [0 0 0]\n",
      "  [0 0 0]\n",
      "  [0 0 0]]\n",
      "\n",
      " [[0 0 0]\n",
      "  [0 0 0]\n",
      "  [0 0 0]\n",
      "  ...\n",
      "  [0 0 0]\n",
      "  [0 0 0]\n",
      "  [0 0 0]]\n",
      "\n",
      " [[0 0 0]\n",
      "  [0 0 0]\n",
      "  [0 0 0]\n",
      "  ...\n",
      "  [0 0 0]\n",
      "  [0 0 0]\n",
      "  [0 0 0]]\n",
      "\n",
      " ...\n",
      "\n",
      " [[0 0 0]\n",
      "  [0 0 0]\n",
      "  [0 0 0]\n",
      "  ...\n",
      "  [0 0 0]\n",
      "  [0 0 0]\n",
      "  [0 0 0]]\n",
      "\n",
      " [[0 0 0]\n",
      "  [0 0 0]\n",
      "  [0 0 0]\n",
      "  ...\n",
      "  [0 0 0]\n",
      "  [0 0 0]\n",
      "  [0 0 0]]\n",
      "\n",
      " [[0 0 0]\n",
      "  [0 0 0]\n",
      "  [0 0 0]\n",
      "  ...\n",
      "  [0 0 0]\n",
      "  [0 0 0]\n",
      "  [0 0 0]]]\n",
      "(200, 146, 3)\n"
     ]
    }
   ],
   "source": [
    "import cv2 as cv\n",
    "import sys\n",
    "\n",
    "#grayImage = cv.imread('sources/goku.png', cv.IMREAD_GRAYSCALE)\n",
    "grayImage = cv.imread('sources/goku.png', cv.IMREAD_REDUCED_COLOR_8)\n",
    "\n",
    "if grayImage is None:\n",
    "    print('Failed to read image from file')\n",
    "    sys.exit(1)\n",
    "success = cv.imwrite('sources/gokuOut.png', grayImage)\n",
    "if not success:\n",
    "    print('Failed to write image to file')\n",
    "    sys.exit(1)\n",
    "    \n",
    "print (grayImage)\n",
    "print(grayImage.shape)"
   ]
  },
  {
   "cell_type": "code",
   "execution_count": null,
   "id": "0b21cec3",
   "metadata": {},
   "outputs": [],
   "source": []
  },
  {
   "cell_type": "markdown",
   "id": "9fa25646",
   "metadata": {},
   "source": [
    "## Video\n",
    "### captura de video camara"
   ]
  },
  {
   "cell_type": "code",
   "execution_count": 9,
   "id": "f34f5d22",
   "metadata": {},
   "outputs": [],
   "source": [
    "import numpy as np\n",
    "\n",
    "cap = cv.VideoCapture(2)\n",
    "if not cap.isOpened():\n",
    "    print(\"No es posible abrir la camara\")\n",
    "    exit()\n",
    "    \n",
    "while True:\n",
    "    # Capture frame-by-frame\n",
    "    ret, frame = cap.read()\n",
    "    \n",
    "    # if frame is read correctly ret is True\n",
    "    if not ret:\n",
    "        print(\"No se puede recibir datos (stream end?). Exiting ...\")\n",
    "        break\n",
    "        \n",
    "    # Our operations on the frame come here\n",
    "    #gray = cv.cvtColor(frame, cv.COLOR_BGR2GRAY)\n",
    "    # Display the resulting frame\n",
    "    #cv.imshow('mostrador Video', gray)\n",
    "    \n",
    "    \n",
    "    cv.imshow('mostrador Video', frame)\n",
    "    if cv.waitKey(1) == ord('q'):\n",
    "        break\n",
    "# When everything done, release the capture\n",
    "cap.release()\n",
    "cv.destroyAllWindows()\n",
    "    \n",
    "\n"
   ]
  },
  {
   "cell_type": "markdown",
   "id": "3462b1d5",
   "metadata": {},
   "source": [
    "### Leyendo video\n",
    "\n",
    "Antes de instalar asegurarse de la version de ffmpeg o gstreamer esté instalado previamente, algunas veces arroga error por este tipo de dependencias"
   ]
  },
  {
   "cell_type": "code",
   "execution_count": 1,
   "id": "b2c013e9",
   "metadata": {},
   "outputs": [
    {
     "ename": "NameError",
     "evalue": "name 'cv' is not defined",
     "output_type": "error",
     "traceback": [
      "\u001b[1;31m---------------------------------------------------------------------------\u001b[0m",
      "\u001b[1;31mNameError\u001b[0m                                 Traceback (most recent call last)",
      "Cell \u001b[1;32mIn[1], line 3\u001b[0m\n\u001b[0;32m      1\u001b[0m \u001b[38;5;28;01mimport\u001b[39;00m \u001b[38;5;21;01mnumpy\u001b[39;00m \u001b[38;5;28;01mas\u001b[39;00m \u001b[38;5;21;01mnp\u001b[39;00m\n\u001b[0;32m      2\u001b[0m \u001b[38;5;66;03m#import cv2 as cv\u001b[39;00m\n\u001b[1;32m----> 3\u001b[0m cap \u001b[38;5;241m=\u001b[39m \u001b[43mcv\u001b[49m\u001b[38;5;241m.\u001b[39mVideoCapture(\u001b[38;5;124m'\u001b[39m\u001b[38;5;124msources/flores.mp4\u001b[39m\u001b[38;5;124m'\u001b[39m)\n\u001b[0;32m      4\u001b[0m \u001b[38;5;28;01mwhile\u001b[39;00m cap\u001b[38;5;241m.\u001b[39misOpened():\n\u001b[0;32m      5\u001b[0m     ret, frame \u001b[38;5;241m=\u001b[39m cap\u001b[38;5;241m.\u001b[39mread()\n",
      "\u001b[1;31mNameError\u001b[0m: name 'cv' is not defined"
     ]
    }
   ],
   "source": [
    "import numpy as np\n",
    "#import cv2 as cv\n",
    "cap = cv.VideoCapture('sources/flores.mp4')\n",
    "while cap.isOpened():\n",
    "    ret, frame = cap.read()\n",
    "    # if frame is read correctly ret is True\n",
    "    if not ret:\n",
    "        print(\"Can't receive frame (stream end?). Exiting ...\")\n",
    "        break\n",
    "    gray = cv.cvtColor(frame, cv.COLOR_BGR2GRAY)\n",
    "    \n",
    "    cv.imshow('frame', gray)\n",
    "    if cv.waitKey(1) == ord('q'):\n",
    "        break\n",
    "cap.release()\n",
    "cv.destroyAllWindows()"
   ]
  },
  {
   "cell_type": "markdown",
   "id": "fc553d98",
   "metadata": {},
   "source": [
    "### Guardando video\n",
    "\n",
    "Antes de instalar asegurarse de la version de ffmpeg o gstreamer esté instalado previamente, algunas veces arroga error por este tipo de dependencias\n"
   ]
  },
  {
   "cell_type": "code",
   "execution_count": 2,
   "id": "518e30f1",
   "metadata": {},
   "outputs": [],
   "source": [
    "import numpy as np\n",
    "#import cv2 as cv\n",
    "cap = cv.VideoCapture(2)\n",
    "# Define the codec and create VideoWriter object\n",
    "fourcc = cv.VideoWriter_fourcc(*'XVID')\n",
    "out = cv.VideoWriter('sources/output.mp4', fourcc, 20.0, (3840,  2160))\n",
    "while cap.isOpened():\n",
    "    ret, frame = cap.read()\n",
    "    if not ret:\n",
    "        print(\"Can't receive frame (stream end?). Exiting ...\")\n",
    "        break\n",
    "    frame = cv.flip(frame, 0)\n",
    "    # write the flipped frame\n",
    "    out.write(frame)\n",
    "    cv.imshow('frame', frame)\n",
    "    if cv.waitKey(1) == ord('q'):\n",
    "        break\n",
    "# Release everything if job is finished\n",
    "cap.release()\n",
    "out.release()\n",
    "cv.destroyAllWindows()"
   ]
  },
  {
   "cell_type": "markdown",
   "id": "43a3d2e3",
   "metadata": {},
   "source": [
    "# propiedades del imread"
   ]
  },
  {
   "cell_type": "code",
   "execution_count": null,
   "id": "19d72531",
   "metadata": {},
   "outputs": [],
   "source": [
    "import cv2 as cv\n",
    "\n"
   ]
  }
 ],
 "metadata": {
  "kernelspec": {
   "display_name": "Python 3 (ipykernel)",
   "language": "python",
   "name": "python3"
  },
  "language_info": {
   "codemirror_mode": {
    "name": "ipython",
    "version": 3
   },
   "file_extension": ".py",
   "mimetype": "text/x-python",
   "name": "python",
   "nbconvert_exporter": "python",
   "pygments_lexer": "ipython3",
   "version": "3.9.16"
  }
 },
 "nbformat": 4,
 "nbformat_minor": 5
}
