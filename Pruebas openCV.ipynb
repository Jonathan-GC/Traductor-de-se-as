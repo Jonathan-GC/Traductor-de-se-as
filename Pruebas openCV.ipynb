{
 "cells": [
  {
   "cell_type": "markdown",
   "id": "658dd0e0",
   "metadata": {},
   "source": []
  },
  {
   "cell_type": "markdown",
   "id": "127ebf84",
   "metadata": {},
   "source": [
    "##    LECTURA Y ESCRITURA DE IMAGENES"
   ]
  },
  {
   "cell_type": "code",
   "execution_count": 1,
   "id": "eb269b4d",
   "metadata": {},
   "outputs": [],
   "source": [
    "import cv2 as cv\n",
    "import sys\n",
    "\n",
    "img = cv.imread(cv.samples.findFile(\"sources/emblema.jpg\"))\n",
    "\n",
    "if img is None:\n",
    "    sys.exit(\"No se puede mostrar el archivo\")\n",
    "    \n",
    "cv.imshow(\"Ventana de muestra\", img)\n",
    "k = cv.waitKey(0)\n",
    "\n",
    "if k == ord(\"s\"):\n",
    "    cv.imwrite(\"sources/salida de imagen.png\", img)\n",
    "\n"
   ]
  },
  {
   "cell_type": "markdown",
   "id": "9fa25646",
   "metadata": {},
   "source": [
    "## Video\n",
    "### captura de video camara"
   ]
  },
  {
   "cell_type": "code",
   "execution_count": 7,
   "id": "f34f5d22",
   "metadata": {},
   "outputs": [],
   "source": [
    "import numpy as np\n",
    "\n",
    "cap = cv.VideoCapture(2)\n",
    "if not cap.isOpened():\n",
    "    print(\"No es posible abrir la camara\")\n",
    "    exit()\n",
    "    \n",
    "while True:\n",
    "    # Capture frame-by-frame\n",
    "    ret, frame = cap.read()\n",
    "    \n",
    "    # if frame is read correctly ret is True\n",
    "    if not ret:\n",
    "        print(\"No se puede recibir datos (stream end?). Exiting ...\")\n",
    "        break\n",
    "        \n",
    "    # Our operations on the frame come here\n",
    "    gray = cv.cvtColor(frame, cv.COLOR_BGR2GRAY)\n",
    "    # Display the resulting frame\n",
    "    cv.imshow('mostrador Video', gray)\n",
    "    if cv.waitKey(1) == ord('q'):\n",
    "        break\n",
    "# When everything done, release the capture\n",
    "cap.release()\n",
    "cv.destroyAllWindows()\n",
    "    \n",
    "\n"
   ]
  },
  {
   "cell_type": "markdown",
   "id": "3462b1d5",
   "metadata": {},
   "source": [
    "### Leyendo video\n",
    "\n",
    "Antes de instalar asegurarse de la version de ffmpeg o gstreamer esté instalado previamente, algunas veces arroga error por este tipo de dependencias"
   ]
  },
  {
   "cell_type": "code",
   "execution_count": 12,
   "id": "b2c013e9",
   "metadata": {},
   "outputs": [],
   "source": [
    "import numpy as np\n",
    "#import cv2 as cv\n",
    "cap = cv.VideoCapture('sources/flores.mp4')\n",
    "while cap.isOpened():\n",
    "    ret, frame = cap.read()\n",
    "    # if frame is read correctly ret is True\n",
    "    if not ret:\n",
    "        print(\"Can't receive frame (stream end?). Exiting ...\")\n",
    "        break\n",
    "    gray = cv.cvtColor(frame, cv.COLOR_BGR2GRAY)\n",
    "    \n",
    "    cv.imshow('frame', gray)\n",
    "    if cv.waitKey(1) == ord('q'):\n",
    "        break\n",
    "cap.release()\n",
    "cv.destroyAllWindows()"
   ]
  },
  {
   "cell_type": "markdown",
   "id": "fc553d98",
   "metadata": {},
   "source": [
    "### Guardando video\n",
    "\n",
    "Antes de instalar asegurarse de la version de ffmpeg o gstreamer esté instalado previamente, algunas veces arroga error por este tipo de dependencias\n"
   ]
  },
  {
   "cell_type": "code",
   "execution_count": 2,
   "id": "518e30f1",
   "metadata": {},
   "outputs": [],
   "source": [
    "import numpy as np\n",
    "#import cv2 as cv\n",
    "cap = cv.VideoCapture(2)\n",
    "# Define the codec and create VideoWriter object\n",
    "fourcc = cv.VideoWriter_fourcc(*'XVID')\n",
    "out = cv.VideoWriter('sources/output.mp4', fourcc, 20.0, (3840,  2160))\n",
    "while cap.isOpened():\n",
    "    ret, frame = cap.read()\n",
    "    if not ret:\n",
    "        print(\"Can't receive frame (stream end?). Exiting ...\")\n",
    "        break\n",
    "    frame = cv.flip(frame, 0)\n",
    "    # write the flipped frame\n",
    "    out.write(frame)\n",
    "    cv.imshow('frame', frame)\n",
    "    if cv.waitKey(1) == ord('q'):\n",
    "        break\n",
    "# Release everything if job is finished\n",
    "cap.release()\n",
    "out.release()\n",
    "cv.destroyAllWindows()"
   ]
  }
 ],
 "metadata": {
  "kernelspec": {
   "display_name": "Python 3 (ipykernel)",
   "language": "python",
   "name": "python3"
  },
  "language_info": {
   "codemirror_mode": {
    "name": "ipython",
    "version": 3
   },
   "file_extension": ".py",
   "mimetype": "text/x-python",
   "name": "python",
   "nbconvert_exporter": "python",
   "pygments_lexer": "ipython3",
   "version": "3.9.16"
  }
 },
 "nbformat": 4,
 "nbformat_minor": 5
}
