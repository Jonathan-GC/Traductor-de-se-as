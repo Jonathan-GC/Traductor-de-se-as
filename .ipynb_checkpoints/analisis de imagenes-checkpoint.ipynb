{
 "cells": [
  {
   "cell_type": "markdown",
   "id": "3fc4515a",
   "metadata": {},
   "source": [
    "# Transformada de fourier"
   ]
  },
  {
   "cell_type": "code",
   "execution_count": 1,
   "id": "de40e3e9",
   "metadata": {},
   "outputs": [],
   "source": [
    "import cv2\n",
    "import numpy as np\n",
    "from scipy import ndimage"
   ]
  },
  {
   "cell_type": "code",
   "execution_count": null,
   "id": "7465fc35",
   "metadata": {},
   "outputs": [
    {
     "name": "stdout",
     "output_type": "stream",
     "text": [
      "[[148 148 148 ...  84  72  97]\n",
      " [148 149 149 ...  99  98  82]\n",
      " [149 149 149 ...  97  84  31]\n",
      " ...\n",
      " [184 183 183 ... 179 191 200]\n",
      " [184 185 183 ... 192 187 190]\n",
      " [184 185 183 ... 198 191 191]]\n",
      "[[149 149 149 ...  77  76  76]\n",
      " [149 149 149 ...  76  75  75]\n",
      " [149 149 149 ...  73  73  72]\n",
      " ...\n",
      " [181 181 181 ... 186 193 196]\n",
      " [182 181 181 ... 183 191 193]\n",
      " [182 182 181 ... 182 190 192]]\n"
     ]
    }
   ],
   "source": [
    "kernel_3x3 = np.array([[-1, -1, -1],\n",
    "                       [-1, 8, -1],\n",
    "                       [-1, -1, -1]])\n",
    "\n",
    "kernel_5x5 = np.array([[-1, -1, -1, -1, -1],\n",
    "                       [-1, 1, 2, 1, -1],\n",
    "                       [-1, 2, 4, 2, -1],\n",
    "                       [-1, 1, 2, 1, -1],\n",
    "                       [-1, -1, -1, -1, -1]])\n",
    "\n",
    "img = cv2.imread(\"sources/estatua.jpg\", cv2.IMREAD_GRAYSCALE)\n",
    "\n",
    "k3 = ndimage.convolve(img, kernel_3x3) \n",
    "k5 = ndimage.convolve(img, kernel_5x5)\n",
    "\n",
    "blurred = cv2.GaussianBlur(img, (17,17), 0)\n",
    "print(img)\n",
    "print(blurred)\n",
    "\n",
    "\n",
    "cv2.imshow(\"g_hpf\", img)\n",
    "cv2.waitKey()\n",
    "cv2.destroyAllWindows()\n",
    "\n",
    "#cv2.waitKey()\n",
    "#cv2.destroyAllWindows()\n",
    "\n",
    "\n",
    "\n",
    "\n",
    "#k3 = ndimage.convolve(img, kernel_3x3) \n",
    "                 \n",
    "#k5 = ndimage.convolve(img, kernel_5x5)\n",
    "\n",
    "#blurred = cv2.GaussianBlur(img, (17,17), 0)\n",
    "#g_hpf = img - blurred\n",
    "\n",
    "#cv2.imshow(\"3x3\", k3)\n",
    "#cv2.imshow(\"5x5\", k5)\n",
    "#cv2.imshow(\"blurred\", blurred)\n",
    "#cv2.imshow(\"g_hpf\", g_hpf)\n",
    "#cv2.waitKey()\n",
    "#cv2.destroyAllWindows()\n",
    "\n"
   ]
  },
  {
   "cell_type": "code",
   "execution_count": null,
   "id": "1ed84acf",
   "metadata": {},
   "outputs": [],
   "source": []
  }
 ],
 "metadata": {
  "kernelspec": {
   "display_name": "Python 3 (ipykernel)",
   "language": "python",
   "name": "python3"
  },
  "language_info": {
   "codemirror_mode": {
    "name": "ipython",
    "version": 3
   },
   "file_extension": ".py",
   "mimetype": "text/x-python",
   "name": "python",
   "nbconvert_exporter": "python",
   "pygments_lexer": "ipython3",
   "version": "3.9.16"
  }
 },
 "nbformat": 4,
 "nbformat_minor": 5
}
