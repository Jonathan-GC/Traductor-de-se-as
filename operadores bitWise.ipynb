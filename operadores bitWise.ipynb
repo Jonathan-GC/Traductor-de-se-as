{
 "cells": [
  {
   "cell_type": "code",
   "execution_count": 9,
   "id": "407e540d",
   "metadata": {},
   "outputs": [],
   "source": [
    "import cv2\n",
    "import numpy as np\n",
    "\n",
    "img1 = np.zeros((400,600), dtype=np.uint8)\n",
    "img1[100:300, 200:400] = 255\n",
    "\n",
    "img2 = np.zeros((400, 600), dtype=np.uint8)\n",
    "img2 = cv2.circle(img2, (300,200), 110, (255), -1)\n",
    "\n",
    "##Funcion AND bitWise\n",
    "AND = cv2.bitwise_and(img1, img2)\n",
    "\n",
    "##Funcion OR bitWise\n",
    "OR = cv2.bitwise_or(img1, img2)\n",
    "\n",
    "##Funcion XOR bitWise\n",
    "NOT = cv2.bitwise_not(img1)\n",
    "\n",
    "##Funcion XOR bitWise\n",
    "XOR = cv2.bitwise_xor(img1, img2)\n",
    "\n",
    "\n",
    "cv2.imshow(\"imagen1\", img1)\n",
    "cv2.imshow(\"imagen2\", img2)\n",
    "cv2.imshow(\"NOT\", NOT)\n",
    "cv2.imshow(\"AND\", AND)\n",
    "cv2.imshow(\"OR\", OR)\n",
    "cv2.imshow(\"XOR\", XOR)\n",
    "cv2.waitKey(0)\n",
    "cv2.destroyAllWindows()"
   ]
  },
  {
   "cell_type": "code",
   "execution_count": null,
   "id": "3401eb15",
   "metadata": {},
   "outputs": [],
   "source": [
    "#USando mascaras con operadores bitWise\n",
    "\n",
    "import cv2\n",
    "import numpy as np\n",
    "\n",
    "captura = cv2.VideoCapture(1)\n",
    "mask = np.zeros((480, 640), dtype=np.uint8)\n",
    "mask = cv2.circle(mask, (240, 320), 200, (255), -1)\n",
    "cv2.imshow(\"XXXX\", mask)\n",
    "print(mask.shape)\n",
    "while(captura.isOpened()):\n",
    "    ret, frame = captura.read()\n",
    "    \n",
    "    \n",
    "    if ret == True:\n",
    "        \n",
    "        capturaMask = cv2.bitwise_and(frame, frame, mask=mask)\n",
    "        cv2.imshow(\"MASCARA\", capturaMask)\n",
    "        \n",
    "        if cv2.waitKey(1) & 0xFF == ord('s'):\n",
    "            break\n",
    "            \n",
    "    else:\n",
    "        break\n",
    "        \n",
    "captura.release()\n",
    "cv2.destroyAllWindows()\n",
    "\n",
    "\n"
   ]
  },
  {
   "cell_type": "code",
   "execution_count": null,
   "id": "c5c99fb5",
   "metadata": {},
   "outputs": [],
   "source": []
  },
  {
   "cell_type": "code",
   "execution_count": null,
   "id": "d99b8706",
   "metadata": {},
   "outputs": [],
   "source": []
  }
 ],
 "metadata": {
  "kernelspec": {
   "display_name": "Python 3 (ipykernel)",
   "language": "python",
   "name": "python3"
  },
  "language_info": {
   "codemirror_mode": {
    "name": "ipython",
    "version": 3
   },
   "file_extension": ".py",
   "mimetype": "text/x-python",
   "name": "python",
   "nbconvert_exporter": "python",
   "pygments_lexer": "ipython3",
   "version": "3.9.16"
  }
 },
 "nbformat": 4,
 "nbformat_minor": 5
}
